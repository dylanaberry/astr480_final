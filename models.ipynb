{
 "cells": [
  {
   "cell_type": "markdown",
   "id": "4c9e503f-fd20-43e6-8632-4efae90ab031",
   "metadata": {},
   "source": [
    "### Context\n",
    "\n",
    "This notebook generates a single .hdf5 file that is required for the piXedfit fitting process.\n",
    "\n",
    "The code creates a collection of SED models based off a collection of selected variables. In the instance of this notebook\n",
    "a star formation form of a double power law, the inclusion of nebular emissions, and a minimum possible redshift of 0\n",
    "are used. 20k total models are generated."
   ]
  },
  {
   "cell_type": "code",
   "execution_count": 2,
   "id": "cd93e6bb-e01d-4e2f-a93a-124a2b9a730b",
   "metadata": {},
   "outputs": [
    {
     "name": "stdout",
     "output_type": "stream",
     "text": [
      "13.466983947061877 Gyr\n",
      "1.1292703424331443\n",
      "There are 7 parameters: \n",
      "['logzsol', 'log_tau', 'log_alpha', 'log_beta', 'log_age', 'dust2', 'gas_logu']\n",
      "rank: 2  Calculation process: 5000 from 5000 --> 100%\n",
      "\n",
      "\n",
      "\n",
      "\n"
     ]
    }
   ],
   "source": [
    "# Import some needed functions\n",
    "import numpy as np\n",
    "from astropy.cosmology import FlatLambdaCDM\n",
    "from piXedfit.piXedfit_model import save_models_rest_spec \n",
    "\n",
    "sfh_form = 4                    # Double power law\n",
    "add_neb_emission = 1            # turn on nebular emission\n",
    "\n",
    "nmodels = 20000                # number of model spectra to be produced\n",
    "nproc = 4                       # number of cores to be used in the calculation\n",
    "min_z = 0.0                     # minimum redshift which determines the maximum age of the models\n",
    "cosmo = FlatLambdaCDM(H0=70.0, Om0=0.3)\n",
    "age_univ = cosmo.age(min_z)\n",
    "max_log_age = np.log10(age_univ.value)\n",
    "print(age_univ)\n",
    "print(max_log_age)\n",
    "\n",
    "params_range = {'log_age':[-1.0,max_log_age]}\n",
    "\n",
    "name_out = '20k_sfh4_min0.hdf5'\n",
    "\n",
    "# Calling this function creates an hdf5 file that contains necessary information\n",
    "# for the piXedfit process.\n",
    "save_models_rest_spec(sfh_form=sfh_form, params_range=params_range,\n",
    "                        add_neb_emission=add_neb_emission, \n",
    "                        nmodels=nmodels, nproc=nproc, name_out=name_out)"
   ]
  }
 ],
 "metadata": {
  "kernelspec": {
   "display_name": "Python 3 (ipykernel)",
   "language": "python",
   "name": "python3"
  },
  "language_info": {
   "codemirror_mode": {
    "name": "ipython",
    "version": 3
   },
   "file_extension": ".py",
   "mimetype": "text/x-python",
   "name": "python",
   "nbconvert_exporter": "python",
   "pygments_lexer": "ipython3",
   "version": "3.12.9"
  }
 },
 "nbformat": 4,
 "nbformat_minor": 5
}
